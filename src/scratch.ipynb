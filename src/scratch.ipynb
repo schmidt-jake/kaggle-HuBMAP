{
 "cells": [
  {
   "cell_type": "code",
   "execution_count": null,
   "metadata": {},
   "outputs": [],
   "source": [
    "import tensorflow as tf\n",
    "import utils\n",
    "import pandas as pd\n",
    "from PIL import Image\n",
    "from pprint import pprint\n",
    "import matplotlib.pyplot as plt\n",
    "\n",
    "    \n",
    "metadata = pd.read_csv(\"../data/HuBMAP-20-dataset_information.csv\")\n",
    "metadata[\"id\"] = metadata[\"image_file\"].str.rstrip(\".tiff\")\n",
    "targets = pd.read_csv(\"../data/train.csv\")\n",
    "targets = targets.merge(metadata, on=\"id\")\n",
    "for k in [\"image_file\", \"anatomical_structures_segmention_file\", \"glomerulus_segmentation_file\"]:\n",
    "    targets[k] = \"../data/train/\" + targets[k]\n",
    "data = tf.data.Dataset.from_tensor_slices(dict(targets))\n",
    "data = data.map(utils.parse_image)\n",
    "data = data.interleave(\n",
    "    lambda i: tf.data.Dataset.from_tensor_slices({k: i[k] for k in (\"image_tiles\", \"mask_tiles\")}),\n",
    "    cycle_length=1,\n",
    "    block_length=1000,\n",
    "    deterministic=True\n",
    ")\n",
    "\n",
    "plt.figure(figsize=(15, 15))\n",
    "for i, tile in data.take(12).enumerate().as_numpy_iterator():\n",
    "    for j, k in enumerate([\"image_tiles\", \"mask_tiles\"]):\n",
    "        ax = plt.subplot(6, 4, (i + 1) * (j + 1))\n",
    "        plt.imshow(tile[k])\n",
    "        plt.axis(\"off\")"
   ]
  },
  {
   "cell_type": "code",
   "execution_count": null,
   "metadata": {},
   "outputs": [],
   "source": []
  }
 ],
 "metadata": {
  "file_extension": ".py",
  "kernelspec": {
   "display_name": "Python 3",
   "language": "python",
   "name": "python3"
  },
  "language_info": {
   "codemirror_mode": {
    "name": "ipython",
    "version": 3
   },
   "file_extension": ".py",
   "mimetype": "text/x-python",
   "name": "python",
   "nbconvert_exporter": "python",
   "pygments_lexer": "ipython3",
   "version": "3.8.6"
  },
  "mimetype": "text/x-python",
  "name": "python",
  "npconvert_exporter": "python",
  "pygments_lexer": "ipython3",
  "version": 3
 },
 "nbformat": 4,
 "nbformat_minor": 4
}
